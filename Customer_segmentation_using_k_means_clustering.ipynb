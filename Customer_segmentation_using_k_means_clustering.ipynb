import numpy as np  # Library for numerical computations
import pandas as pd  # Library for handling datasets
import matplotlib.pyplot as plt  # Library for data visualization
import seaborn as sns  # Library for enhanced data visualization
from sklearn.cluster import KMeans  # Library for K-Means clustering algorithm

# Load customer data from CSV file
customer_data = pd.read_csv('Mall_Customers.csv')

# Display the first 5 rows of the dataset
customer_data.head()

# Get the number of rows and columns in the dataset
customer_data.shape

# Get general information about the dataset (columns, data types, etc.)
customer_data.info()

# Check for missing values in the dataset
customer_data.isnull().sum()

# Selecting only the 'Annual Income' and 'Spending Score' columns for clustering
X = customer_data.iloc[:, [3, 4]].values
print(X)

# Finding the optimal number of clusters using the Elbow Method
wcss = []  # List to store Within-Cluster Sum of Squares (WCSS) values
for i in range(1, 11):  # Testing cluster numbers from 1 to 10
    kmeans = KMeans(n_clusters=i, init='k-means++', random_state=42)  # Initialize K-Means
    kmeans.fit(X)  # Fit the model to the data
    wcss.append(kmeans.inertia_)  # Store the WCSS value

# Plot the Elbow graph to determine the optimal number of clusters
sns.set()
plt.plot(range(1, 11), wcss)
plt.title('Elbow Point Graph')
plt.xlabel('Number of Clusters')
plt.ylabel('WCSS')
plt.show()

# Based on the graph, choosing 5 as the optimal number of clusters
kmeans = KMeans(n_clusters=5, init='k-means++', random_state=0)  # Initialize K-Means with 5 clusters
Y = kmeans.fit_predict(X)  # Predict cluster labels for each data point
print(Y)  # Print assigned cluster labels (0 to 4)

# Visualizing the customer clusters
plt.figure(figsize=(8, 8))
plt.scatter(X[Y == 0, 0], X[Y == 0, 1], s=50, c='green', label='Cluster 1')  # Cluster 1
plt.scatter(X[Y == 1, 0], X[Y == 1, 1], s=50, c='black', label='Cluster 2')  # Cluster 2
plt.scatter(X[Y == 2, 0], X[Y == 2, 1], s=50, c='yellow', label='Cluster 3')  # Cluster 3
plt.scatter(X[Y == 3, 0], X[Y == 3, 1], s=50, c='blue', label='Cluster 4')  # Cluster 4
plt.scatter(X[Y == 4, 0], X[Y == 4, 1], s=50, c='purple', label='Cluster 5')  # Cluster 5

# Plot cluster centroids (red points)
plt.scatter(kmeans.cluster_centers_[:, 0], kmeans.cluster_centers_[:, 1], s=100, c='red', label='Centroids')

plt.title('Customer Groups')
plt.xlabel('Annual Income (K$)')
plt.ylabel('Spending Score')
plt.legend()
plt.show()

# Interpretation:
# Cluster 1 (Green): Moderate income, moderate spending
# Cluster 2 (Black): High income, high spending
# Cluster 3 (Yellow): High income, low spending
# Cluster 4 (Blue): Low income, low spending
# Cluster 5 (Purple): Low income, high spending

# Businesses can use these clusters to offer targeted discounts and marketing strategies.
# Example: Encourage high-income, low-spending customers (Cluster 3) to spend more.
